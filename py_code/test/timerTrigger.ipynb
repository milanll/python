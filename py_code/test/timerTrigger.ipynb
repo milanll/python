{
 "cells": [
  {
   "cell_type": "code",
   "execution_count": 3,
   "metadata": {},
   "outputs": [
    {
     "ename": "ModuleNotFoundError",
     "evalue": "No module named 'httplib'",
     "output_type": "error",
     "traceback": [
      "\u001b[1;31m---------------------------------------------------------------------------\u001b[0m",
      "\u001b[1;31mModuleNotFoundError\u001b[0m                       Traceback (most recent call last)",
      "\u001b[1;32m<ipython-input-3-b16e8ad9c355>\u001b[0m in \u001b[0;36m<module>\u001b[1;34m()\u001b[0m\n\u001b[1;32m----> 1\u001b[1;33m \u001b[1;32mimport\u001b[0m \u001b[0mhttplib\u001b[0m\u001b[1;33m\u001b[0m\u001b[0m\n\u001b[0m\u001b[0;32m      2\u001b[0m \u001b[1;32mimport\u001b[0m \u001b[0mtime\u001b[0m\u001b[1;33m\u001b[0m\u001b[0m\n\u001b[0;32m      3\u001b[0m \u001b[1;33m\u001b[0m\u001b[0m\n\u001b[0;32m      4\u001b[0m \u001b[1;32mdef\u001b[0m \u001b[0mdoFirst\u001b[0m\u001b[1;33m(\u001b[0m\u001b[1;33m)\u001b[0m\u001b[1;33m:\u001b[0m\u001b[1;33m\u001b[0m\u001b[0m\n\u001b[0;32m      5\u001b[0m     \u001b[1;32mfrom\u001b[0m \u001b[0mdatetime\u001b[0m \u001b[1;32mimport\u001b[0m \u001b[0mdatetime\u001b[0m\u001b[1;33m,\u001b[0m \u001b[0mtimedelta\u001b[0m\u001b[1;33m\u001b[0m\u001b[0m\n",
      "\u001b[1;31mModuleNotFoundError\u001b[0m: No module named 'httplib'"
     ]
    }
   ],
   "source": [
    "import httplib\n",
    "import time\n",
    "\n",
    "def doFirst():  \n",
    "    from datetime import datetime, timedelta  \n",
    "    curTime = datetime.now()  \n",
    "    #print curTime  \n",
    "    desTime = curTime.replace(hour=9, minute=30, second=0, microsecond=0)  \n",
    "    #print desTime  \n",
    "    delta = desTime-curTime  \n",
    "    #print delta  \n",
    "    skipSeconds = int(delta.total_seconds())  \n",
    "    #print skipSeconds  \n",
    "    if skipSeconds==0:  \n",
    "        return True  \n",
    "    else:  \n",
    "        if skipSeconds<0:  \n",
    "            skipSeconds+=24*60*60  \n",
    "        print (\"Must sleep %d seconds\" % skipSeconds)\n",
    "        return False\n",
    "    \n",
    "#也可以采取获取当前时间差值然后自己计数，不过考虑误差问题，就不采取了     \n",
    "def getTime():  \n",
    "    from datetime import datetime, timedelta  \n",
    "    curTime = datetime.now()  \n",
    "    #print curTime  \n",
    "    desTime = curTime.replace(hour=3, minute=0, second=0, microsecond=0)  \n",
    "    #print desTime  \n",
    "    delta = desTime-curTime  \n",
    "    #print delta  \n",
    "    skipSeconds = int(delta.total_seconds())  \n",
    "    if skipSeconds<0:  \n",
    "        skipSeconds+=24*60*60  \n",
    "    print (skipSeconds)  \n",
    "    return skipSeconds  \n",
    "  \n",
    "def gethttp():  \n",
    "    url = \"URL\"  \n",
    "    conn = httplib.HTTPConnection(\"IP\")  \n",
    "    conn.request(method=\"GET\",url=url)  \n",
    "    response = conn.getresponse()  \n",
    "    res= response.read()  \n",
    "    print (res)   \n",
    "  \n",
    "#getTime()  \n",
    "  \n",
    "while True:   \n",
    "    if doFirst():  \n",
    "        gethttp()  \n",
    "        time.sleep(24*59*60)  \n",
    "    time.sleep(1)  \n",
    "\n",
    "s.close() "
   ]
  }
 ],
 "metadata": {
  "kernelspec": {
   "display_name": "Python 3",
   "language": "python",
   "name": "python3"
  },
  "language_info": {
   "codemirror_mode": {
    "name": "ipython",
    "version": 3
   },
   "file_extension": ".py",
   "mimetype": "text/x-python",
   "name": "python",
   "nbconvert_exporter": "python",
   "pygments_lexer": "ipython3",
   "version": "3.6.3"
  }
 },
 "nbformat": 4,
 "nbformat_minor": 2
}
